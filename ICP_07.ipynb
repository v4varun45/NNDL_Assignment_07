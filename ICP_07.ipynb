{
  "nbformat": 4,
  "nbformat_minor": 0,
  "metadata": {
    "colab": {
      "provenance": [],
      "gpuType": "T4"
    },
    "kernelspec": {
      "name": "python3",
      "display_name": "Python 3"
    },
    "language_info": {
      "name": "python"
    },
    "accelerator": "GPU"
  },
  "cells": [
    {
      "cell_type": "markdown",
      "source": [
        "1)"
      ],
      "metadata": {
        "id": "1Km46I83B8sN"
      }
    },
    {
      "cell_type": "code",
      "source": [
        "import numpy as np\n",
        "from tensorflow.keras.datasets import cifar10\n",
        "from tensorflow.keras.models import Sequential\n",
        "from tensorflow.keras.layers import Dense, Dropout, Flatten, Conv2D, MaxPooling2D\n",
        "from tensorflow.keras.constraints import MaxNorm\n",
        "from tensorflow.keras.optimizers import SGD\n",
        "from tensorflow.keras.utils import to_categorical"
      ],
      "metadata": {
        "id": "CmYcHehR1vwY"
      },
      "execution_count": 8,
      "outputs": []
    },
    {
      "cell_type": "code",
      "source": [
        "np.random.seed(7)"
      ],
      "metadata": {
        "id": "Y7F7uw9o20x0"
      },
      "execution_count": 9,
      "outputs": []
    },
    {
      "cell_type": "code",
      "source": [
        "(X_train, y_train), (X_test, y_test) = cifar10.load_data()\n"
      ],
      "metadata": {
        "colab": {
          "base_uri": "https://localhost:8080/"
        },
        "id": "5Sj44iJD25z5",
        "outputId": "261f30a5-1553-48a3-ece7-8ffef784f1e0"
      },
      "execution_count": 10,
      "outputs": [
        {
          "output_type": "stream",
          "name": "stdout",
          "text": [
            "Downloading data from https://www.cs.toronto.edu/~kriz/cifar-10-python.tar.gz\n",
            "170498071/170498071 [==============================] - 13s 0us/step\n"
          ]
        }
      ]
    },
    {
      "cell_type": "code",
      "source": [
        "X_train = X_train.astype('float32') / 255.0\n",
        "X_test = X_test.astype('float32') / 255.0\n",
        "y_train = to_categorical(y_train)\n",
        "y_test = to_categorical(y_test)\n",
        "num_classes = y_test.shape[1]\n",
        "model = Sequential()\n",
        "model.add(Conv2D(32, (3, 3), input_shape=(32, 32, 3), padding='same', activation='relu', kernel_constraint=MaxNorm(3)))\n",
        "model.add(Dropout(0.2))\n",
        "model.add(Conv2D(32, (3, 3), activation='relu', padding='same', kernel_constraint=MaxNorm(3)))\n",
        "model.add(MaxPooling2D(pool_size=(2, 2), padding='same'))\n",
        "model.add(Flatten())\n",
        "model.add(Dense(512, activation='relu', kernel_constraint=MaxNorm(3)))\n",
        "model.add(Dropout(0.5))\n",
        "model.add(Dense(num_classes, activation='softmax'))\n",
        "sgd = SGD(learning_rate=0.01, momentum=0.9)\n",
        "model.compile(loss='categorical_crossentropy', optimizer=sgd, metrics=['accuracy'])\n",
        "print(model.summary())"
      ],
      "metadata": {
        "colab": {
          "base_uri": "https://localhost:8080/"
        },
        "id": "MTpuFtL-3Fvp",
        "outputId": "835f05de-2422-4412-8af2-d1a1d7b5a680"
      },
      "execution_count": 15,
      "outputs": [
        {
          "output_type": "stream",
          "name": "stdout",
          "text": [
            "Model: \"sequential_3\"\n",
            "_________________________________________________________________\n",
            " Layer (type)                Output Shape              Param #   \n",
            "=================================================================\n",
            " conv2d_6 (Conv2D)           (None, 32, 32, 32)        896       \n",
            "                                                                 \n",
            " dropout_6 (Dropout)         (None, 32, 32, 32)        0         \n",
            "                                                                 \n",
            " conv2d_7 (Conv2D)           (None, 32, 32, 32)        9248      \n",
            "                                                                 \n",
            " max_pooling2d_3 (MaxPoolin  (None, 16, 16, 32)        0         \n",
            " g2D)                                                            \n",
            "                                                                 \n",
            " flatten_3 (Flatten)         (None, 8192)              0         \n",
            "                                                                 \n",
            " dense_6 (Dense)             (None, 512)               4194816   \n",
            "                                                                 \n",
            " dropout_7 (Dropout)         (None, 512)               0         \n",
            "                                                                 \n",
            " dense_7 (Dense)             (None, 10)                5130      \n",
            "                                                                 \n",
            "=================================================================\n",
            "Total params: 4210090 (16.06 MB)\n",
            "Trainable params: 4210090 (16.06 MB)\n",
            "Non-trainable params: 0 (0.00 Byte)\n",
            "_________________________________________________________________\n",
            "None\n"
          ]
        }
      ]
    },
    {
      "cell_type": "code",
      "source": [
        "epochs = 25\n",
        "learning_rate = 0.01\n",
        "decay = learning_rate / epochs\n",
        "sgd = SGD(lr=learning_rate, momentum=0.9, nesterov=False)\n",
        "model.compile(loss='categorical_crossentropy', optimizer=sgd, metrics=['accuracy'])\n",
        "print(model.summary())\n",
        "\n",
        "# Fit the model\n",
        "model.fit(X_train, y_train, validation_data=(X_test, y_test), epochs=epochs, batch_size=32)\n",
        "\n",
        "# Final evaluation of the model\n",
        "scores = model.evaluate(X_test, y_test, verbose=0)\n",
        "print(\"Accuracy: %.2f%%\" % (scores[1]*100))"
      ],
      "metadata": {
        "colab": {
          "base_uri": "https://localhost:8080/"
        },
        "id": "bBnwAVEj6kHV",
        "outputId": "9ae2e0a0-a91e-4520-85f7-9fa9ebbac18a"
      },
      "execution_count": 29,
      "outputs": [
        {
          "output_type": "stream",
          "name": "stderr",
          "text": [
            "WARNING:absl:`lr` is deprecated in Keras optimizer, please use `learning_rate` or use the legacy optimizer, e.g.,tf.keras.optimizers.legacy.SGD.\n"
          ]
        },
        {
          "output_type": "stream",
          "name": "stdout",
          "text": [
            "Model: \"sequential_8\"\n",
            "_________________________________________________________________\n",
            " Layer (type)                Output Shape              Param #   \n",
            "=================================================================\n",
            " conv2d_12 (Conv2D)          (None, 32, 32, 32)        896       \n",
            "                                                                 \n",
            " dropout_12 (Dropout)        (None, 32, 32, 32)        0         \n",
            "                                                                 \n",
            " conv2d_13 (Conv2D)          (None, 32, 32, 32)        9248      \n",
            "                                                                 \n",
            " max_pooling2d_6 (MaxPoolin  (None, 16, 16, 32)        0         \n",
            " g2D)                                                            \n",
            "                                                                 \n",
            " flatten_6 (Flatten)         (None, 8192)              0         \n",
            "                                                                 \n",
            " dense_16 (Dense)            (None, 512)               4194816   \n",
            "                                                                 \n",
            " dropout_13 (Dropout)        (None, 512)               0         \n",
            "                                                                 \n",
            " dense_17 (Dense)            (None, 10)                5130      \n",
            "                                                                 \n",
            "=================================================================\n",
            "Total params: 4210090 (16.06 MB)\n",
            "Trainable params: 4210090 (16.06 MB)\n",
            "Non-trainable params: 0 (0.00 Byte)\n",
            "_________________________________________________________________\n",
            "None\n",
            "Epoch 1/25\n",
            "1563/1563 [==============================] - 11s 6ms/step - loss: 0.2822 - accuracy: 0.9049 - val_loss: 1.4629 - val_accuracy: 0.6639\n",
            "Epoch 2/25\n",
            "1563/1563 [==============================] - 9s 6ms/step - loss: 0.2879 - accuracy: 0.9024 - val_loss: 1.3590 - val_accuracy: 0.6651\n",
            "Epoch 3/25\n",
            "1563/1563 [==============================] - 9s 6ms/step - loss: 0.2750 - accuracy: 0.9079 - val_loss: 1.3749 - val_accuracy: 0.6673\n",
            "Epoch 4/25\n",
            "1563/1563 [==============================] - 10s 6ms/step - loss: 0.2717 - accuracy: 0.9076 - val_loss: 1.3263 - val_accuracy: 0.6768\n",
            "Epoch 5/25\n",
            "1563/1563 [==============================] - 9s 6ms/step - loss: 0.2764 - accuracy: 0.9080 - val_loss: 1.4958 - val_accuracy: 0.6679\n",
            "Epoch 6/25\n",
            "1563/1563 [==============================] - 10s 6ms/step - loss: 0.2633 - accuracy: 0.9121 - val_loss: 1.5481 - val_accuracy: 0.6701\n",
            "Epoch 7/25\n",
            "1563/1563 [==============================] - 10s 6ms/step - loss: 0.2626 - accuracy: 0.9116 - val_loss: 1.5074 - val_accuracy: 0.6586\n",
            "Epoch 8/25\n",
            "1563/1563 [==============================] - 9s 6ms/step - loss: 0.2484 - accuracy: 0.9153 - val_loss: 1.4213 - val_accuracy: 0.6765\n",
            "Epoch 9/25\n",
            "1563/1563 [==============================] - 9s 6ms/step - loss: 0.2604 - accuracy: 0.9136 - val_loss: 1.5518 - val_accuracy: 0.6625\n",
            "Epoch 10/25\n",
            "1563/1563 [==============================] - 9s 6ms/step - loss: 0.2579 - accuracy: 0.9153 - val_loss: 1.3574 - val_accuracy: 0.6825\n",
            "Epoch 11/25\n",
            "1563/1563 [==============================] - 10s 6ms/step - loss: 0.2500 - accuracy: 0.9167 - val_loss: 1.4156 - val_accuracy: 0.6740\n",
            "Epoch 12/25\n",
            "1563/1563 [==============================] - 9s 6ms/step - loss: 0.2440 - accuracy: 0.9181 - val_loss: 1.3080 - val_accuracy: 0.6780\n",
            "Epoch 13/25\n",
            "1563/1563 [==============================] - 10s 6ms/step - loss: 0.2362 - accuracy: 0.9213 - val_loss: 1.3812 - val_accuracy: 0.6808\n",
            "Epoch 14/25\n",
            "1563/1563 [==============================] - 10s 6ms/step - loss: 0.2410 - accuracy: 0.9222 - val_loss: 1.3635 - val_accuracy: 0.6776\n",
            "Epoch 15/25\n",
            "1563/1563 [==============================] - 9s 6ms/step - loss: 0.2370 - accuracy: 0.9230 - val_loss: 1.4364 - val_accuracy: 0.6729\n",
            "Epoch 16/25\n",
            "1563/1563 [==============================] - 10s 6ms/step - loss: 0.2351 - accuracy: 0.9217 - val_loss: 1.5070 - val_accuracy: 0.6669\n",
            "Epoch 17/25\n",
            "1563/1563 [==============================] - 10s 6ms/step - loss: 0.2402 - accuracy: 0.9198 - val_loss: 1.3255 - val_accuracy: 0.6839\n",
            "Epoch 18/25\n",
            "1563/1563 [==============================] - 9s 6ms/step - loss: 0.2353 - accuracy: 0.9219 - val_loss: 1.3416 - val_accuracy: 0.6730\n",
            "Epoch 19/25\n",
            "1563/1563 [==============================] - 10s 6ms/step - loss: 0.2302 - accuracy: 0.9227 - val_loss: 1.4024 - val_accuracy: 0.6792\n",
            "Epoch 20/25\n",
            "1563/1563 [==============================] - 10s 6ms/step - loss: 0.2307 - accuracy: 0.9247 - val_loss: 1.3964 - val_accuracy: 0.6808\n",
            "Epoch 21/25\n",
            "1563/1563 [==============================] - 10s 6ms/step - loss: 0.2360 - accuracy: 0.9213 - val_loss: 1.4548 - val_accuracy: 0.6787\n",
            "Epoch 22/25\n",
            "1563/1563 [==============================] - 9s 6ms/step - loss: 0.2309 - accuracy: 0.9232 - val_loss: 1.3947 - val_accuracy: 0.6800\n",
            "Epoch 23/25\n",
            "1563/1563 [==============================] - 10s 6ms/step - loss: 0.2259 - accuracy: 0.9249 - val_loss: 1.2930 - val_accuracy: 0.6772\n",
            "Epoch 24/25\n",
            "1563/1563 [==============================] - 11s 7ms/step - loss: 0.2263 - accuracy: 0.9256 - val_loss: 1.4063 - val_accuracy: 0.6796\n",
            "Epoch 25/25\n",
            "1563/1563 [==============================] - 13s 8ms/step - loss: 0.2190 - accuracy: 0.9275 - val_loss: 1.4581 - val_accuracy: 0.6733\n",
            "Accuracy: 67.33%\n"
          ]
        }
      ]
    },
    {
      "cell_type": "code",
      "source": [],
      "metadata": {
        "id": "b5TSryel9cNI"
      },
      "execution_count": null,
      "outputs": []
    },
    {
      "cell_type": "code",
      "source": [],
      "metadata": {
        "id": "A70Fof5z9cU5"
      },
      "execution_count": null,
      "outputs": []
    },
    {
      "cell_type": "code",
      "source": [],
      "metadata": {
        "id": "6XK6ltJe-izm"
      },
      "execution_count": 29,
      "outputs": []
    },
    {
      "cell_type": "code",
      "source": [
        "model = Sequential()\n",
        "model.add(Conv2D(32, (3, 3), input_shape=(32, 32, 3), padding='same', activation='relu', kernel_constraint=MaxNorm(3)))\n",
        "model.add(Dropout(0.2))\n",
        "model.add(Conv2D(32, (3, 3), activation='relu', padding='same', kernel_constraint=MaxNorm(3)))\n",
        "model.add(MaxPooling2D(pool_size=(2, 2)))\n",
        "model.add(Conv2D(64, (3, 3), activation='relu', padding='same', kernel_constraint=MaxNorm(3)))\n",
        "model.add(Dropout(0.2))\n",
        "model.add(Conv2D(64, (3, 3), activation='relu', padding='same', kernel_constraint=MaxNorm(3)))\n",
        "model.add(MaxPooling2D(pool_size=(2, 2)))\n",
        "model.add(Conv2D(128, (3, 3), activation='relu', padding='same', kernel_constraint=MaxNorm(3)))\n",
        "model.add(Dropout(0.2))\n",
        "model.add(Conv2D(128, (3, 3), activation='relu', padding='same', kernel_constraint=MaxNorm(3)))\n",
        "model.add(MaxPooling2D(pool_size=(2, 2)))\n",
        "model.add(Flatten())\n",
        "model.add(Dropout(0.2))\n",
        "model.add(Dense(1024, activation='relu', kernel_constraint=MaxNorm(3)))\n",
        "model.add(Dropout(0.2))\n",
        "model.add(Dense(512, activation='relu', kernel_constraint=MaxNorm(3)))\n",
        "model.add(Dropout(0.2))\n",
        "model.add(Dense(num_classes, activation='softmax'))\n",
        "\n",
        "# Compile model\n",
        "epochs = 2\n",
        "learning_rate = 0.001\n",
        "decay_rate = learning_rate / epochs\n",
        "sgd = SGD(lr=learning_rate, momentum=0.9, nesterov=False)\n",
        "model.compile(loss='categorical_crossentropy', optimizer=sgd, metrics=['accuracy'])\n",
        "print(model.summary())\n",
        "\n",
        "# Fit the model\n",
        "history = model.fit(X_train, y_train, validation_data=(X_test, y_test), epochs=epochs, batch_size=32)\n",
        "\n",
        "# Evaluate the model\n",
        "scores = model.evaluate(X_test, y_test, verbose=0)\n",
        "print(\"Accuracy: %.2f%%\" % (scores[1] * 100))"
      ],
      "metadata": {
        "colab": {
          "base_uri": "https://localhost:8080/"
        },
        "id": "cp3FmViI-i8p",
        "outputId": "12c6fa60-951e-4db8-caa1-b969398b2cd0"
      },
      "execution_count": 31,
      "outputs": [
        {
          "output_type": "stream",
          "name": "stderr",
          "text": [
            "WARNING:absl:`lr` is deprecated in Keras optimizer, please use `learning_rate` or use the legacy optimizer, e.g.,tf.keras.optimizers.legacy.SGD.\n"
          ]
        },
        {
          "output_type": "stream",
          "name": "stdout",
          "text": [
            "Model: \"sequential_10\"\n",
            "_________________________________________________________________\n",
            " Layer (type)                Output Shape              Param #   \n",
            "=================================================================\n",
            " conv2d_20 (Conv2D)          (None, 32, 32, 32)        896       \n",
            "                                                                 \n",
            " dropout_20 (Dropout)        (None, 32, 32, 32)        0         \n",
            "                                                                 \n",
            " conv2d_21 (Conv2D)          (None, 32, 32, 32)        9248      \n",
            "                                                                 \n",
            " max_pooling2d_10 (MaxPooli  (None, 16, 16, 32)        0         \n",
            " ng2D)                                                           \n",
            "                                                                 \n",
            " conv2d_22 (Conv2D)          (None, 16, 16, 64)        18496     \n",
            "                                                                 \n",
            " dropout_21 (Dropout)        (None, 16, 16, 64)        0         \n",
            "                                                                 \n",
            " conv2d_23 (Conv2D)          (None, 16, 16, 64)        36928     \n",
            "                                                                 \n",
            " max_pooling2d_11 (MaxPooli  (None, 8, 8, 64)          0         \n",
            " ng2D)                                                           \n",
            "                                                                 \n",
            " conv2d_24 (Conv2D)          (None, 8, 8, 128)         73856     \n",
            "                                                                 \n",
            " dropout_22 (Dropout)        (None, 8, 8, 128)         0         \n",
            "                                                                 \n",
            " conv2d_25 (Conv2D)          (None, 8, 8, 128)         147584    \n",
            "                                                                 \n",
            " max_pooling2d_12 (MaxPooli  (None, 4, 4, 128)         0         \n",
            " ng2D)                                                           \n",
            "                                                                 \n",
            " flatten_8 (Flatten)         (None, 2048)              0         \n",
            "                                                                 \n",
            " dropout_23 (Dropout)        (None, 2048)              0         \n",
            "                                                                 \n",
            " dense_21 (Dense)            (None, 1024)              2098176   \n",
            "                                                                 \n",
            " dropout_24 (Dropout)        (None, 1024)              0         \n",
            "                                                                 \n",
            " dense_22 (Dense)            (None, 512)               524800    \n",
            "                                                                 \n",
            " dropout_25 (Dropout)        (None, 512)               0         \n",
            "                                                                 \n",
            " dense_23 (Dense)            (None, 10)                5130      \n",
            "                                                                 \n",
            "=================================================================\n",
            "Total params: 2915114 (11.12 MB)\n",
            "Trainable params: 2915114 (11.12 MB)\n",
            "Non-trainable params: 0 (0.00 Byte)\n",
            "_________________________________________________________________\n",
            "None\n",
            "Epoch 1/2\n",
            "1563/1563 [==============================] - 17s 9ms/step - loss: 1.8561 - accuracy: 0.3101 - val_loss: 1.6102 - val_accuracy: 0.4297\n",
            "Epoch 2/2\n",
            "1563/1563 [==============================] - 13s 8ms/step - loss: 1.4354 - accuracy: 0.4797 - val_loss: 1.3470 - val_accuracy: 0.5091\n",
            "Accuracy: 50.91%\n"
          ]
        }
      ]
    },
    {
      "cell_type": "markdown",
      "source": [
        "Did the performance change?\n",
        "\n",
        "No, but the Accuracy is some what different."
      ],
      "metadata": {
        "id": "IyZV8Sq8Aoik"
      }
    },
    {
      "cell_type": "code",
      "source": [],
      "metadata": {
        "id": "OUd1zrFlAzpN"
      },
      "execution_count": null,
      "outputs": []
    },
    {
      "cell_type": "markdown",
      "source": [
        "2: Predict the first 4 images of the test data using the above model. Then, compare with the actual label for those 4 images to check whether or not the model has predicted correctly."
      ],
      "metadata": {
        "id": "XcLgAoHrA0Mx"
      }
    },
    {
      "cell_type": "code",
      "source": [
        "import numpy as np\n",
        "\n",
        "# Assuming you have already defined and trained the 'model' and loaded the 'X_test' and 'y_test' data.\n",
        "\n",
        "# Predict the first 4 images of the test data\n",
        "predictions = model.predict(X_test[:4])\n",
        "\n",
        "# Convert the predictions to class labels\n",
        "predicted_labels = np.argmax(predictions, axis=1)\n",
        "\n",
        "# Convert the actual labels to class labels\n",
        "actual_labels = np.argmax(y_test[:4], axis=1)\n",
        "\n",
        "# Print the predicted and actual labels for the first 4 images\n",
        "print(\"Predicted labels:\", predicted_labels)\n",
        "print(\"Actual labels:   \", actual_labels)"
      ],
      "metadata": {
        "colab": {
          "base_uri": "https://localhost:8080/"
        },
        "id": "c6JORlRb_di-",
        "outputId": "141d7636-40c5-4a19-d736-c3779f386aa3"
      },
      "execution_count": 32,
      "outputs": [
        {
          "output_type": "stream",
          "name": "stdout",
          "text": [
            "1/1 [==============================] - 0s 442ms/step\n",
            "Predicted labels: [3 8 8 8]\n",
            "Actual labels:    [3 8 8 0]\n"
          ]
        }
      ]
    },
    {
      "cell_type": "code",
      "source": [],
      "metadata": {
        "id": "qZWbg33AA7ap"
      },
      "execution_count": null,
      "outputs": []
    },
    {
      "cell_type": "markdown",
      "source": [
        "3. Visualize Loss and Accuracy using the history object :"
      ],
      "metadata": {
        "id": "bzRGN3XbA74G"
      }
    },
    {
      "cell_type": "code",
      "source": [
        "import matplotlib.pyplot as plt\n",
        "\n",
        "# Plot the training and validation loss\n",
        "plt.plot(history.history['loss'])\n",
        "plt.plot(history.history['val_loss'])\n",
        "plt.title('Model Loss')\n",
        "plt.ylabel('Loss')\n",
        "plt.xlabel('Epoch')\n",
        "plt.legend(['train', 'val'], loc='upper right')\n",
        "plt.show()\n",
        "\n",
        "# Plot the training and validation accuracy\n",
        "plt.plot(history.history['accuracy'])\n",
        "plt.plot(history.history['val_accuracy'])\n",
        "plt.title('Model Accuracy')\n",
        "plt.ylabel('Accuracy')\n",
        "plt.xlabel('Epoch')\n",
        "plt.legend(['train', 'val'], loc='lower right')\n",
        "plt.show()"
      ],
      "metadata": {
        "colab": {
          "base_uri": "https://localhost:8080/",
          "height": 927
        },
        "id": "vKLhUYD6_kM9",
        "outputId": "2e21fb09-fc84-4697-f905-8719ab1cc8c0"
      },
      "execution_count": 33,
      "outputs": [
        {
          "output_type": "display_data",
          "data": {
            "text/plain": [
              "<Figure size 640x480 with 1 Axes>"
            ],
            "image/png": "[encoded data removed]"
          },
          "metadata": {}
        },
        {
          "output_type": "display_data",
          "data": {
            "text/plain": [
              "<Figure size 640x480 with 1 Axes>"
            ],
            "image/png": "[encoded data removed]"
          },
          "metadata": {}
        }
      ]
    }
  ]
}